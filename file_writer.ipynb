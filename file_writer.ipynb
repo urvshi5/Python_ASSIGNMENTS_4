{
  "metadata": {
    "kernelspec": {
      "name": "python",
      "display_name": "Python (Pyodide)",
      "language": "python"
    },
    "language_info": {
      "codemirror_mode": {
        "name": "python",
        "version": 3
      },
      "file_extension": ".py",
      "mimetype": "text/x-python",
      "name": "python",
      "nbconvert_exporter": "python",
      "pygments_lexer": "ipython3",
      "version": "3.8"
    }
  },
  "nbformat_minor": 5,
  "nbformat": 4,
  "cells": [
    {
      "id": "6903dc19-d4a4-4652-a96a-bba99e9372e0",
      "cell_type": "code",
      "source": "filename = \"output.txt\"\n\n# Get user input and write to the file\nuser_data = input(\"Please enter some text: \")\nwith open(filename, 'w') as file:\n    file.write(user_data + '\\n')\n\n# Append a new line to the same file\nwith open(filename, 'a') as file:\n    file.write(\"This is an appended line.\\n\")\n\n# Read and display the final result\nprint(\"\\n--- Final content of output.txt ---\")\nwith open(filename, 'r') as file:\n    print(file.read())",
      "metadata": {
        "trusted": true
      },
      "outputs": [
        {
          "output_type": "stream",
          "name": "stdin",
          "text": "Please enter some text:  Hello Check New file\n"
        },
        {
          "name": "stdout",
          "output_type": "stream",
          "text": "\n--- Final content of output.txt ---\nHello Check New file\nThis is an appended line.\n\n"
        }
      ],
      "execution_count": 2
    },
    {
      "id": "5fc74e30-2084-425c-afae-1b01b587aa4e",
      "cell_type": "code",
      "source": "",
      "metadata": {
        "trusted": true
      },
      "outputs": [],
      "execution_count": null
    }
  ]
}