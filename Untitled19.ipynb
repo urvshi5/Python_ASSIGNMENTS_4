{
  "metadata": {
    "kernelspec": {
      "name": "python",
      "display_name": "Python (Pyodide)",
      "language": "python"
    },
    "language_info": {
      "codemirror_mode": {
        "name": "python",
        "version": 3
      },
      "file_extension": ".py",
      "mimetype": "text/x-python",
      "name": "python",
      "nbconvert_exporter": "python",
      "pygments_lexer": "ipython3",
      "version": "3.8"
    }
  },
  "nbformat_minor": 5,
  "nbformat": 4,
  "cells": [
    {
      "id": "f5a250cc-0749-4fe4-8da5-577277f0ffe7",
      "cell_type": "code",
      "source": "# read_file.py\n\n# This is a RELATIVE path. It means \"look for sample.txt in the same\n# directory that this script is being run from.\"\nfilename = \"sample.txt\"\n\ntry:\n    with open(filename, 'r') as file:\n        print(f\"--- Content of {filename} ---\")\n        for line in file:\n            print(line.strip())\n        print(\"--------------------------\")\n\nexcept FileNotFoundError:\n    print(f\"Error: The file '{filename}' was not found.\")",
      "metadata": {
        "trusted": true
      },
      "outputs": [
        {
          "name": "stdout",
          "output_type": "stream",
          "text": "--- Content of sample.txt ---\n----Sample File Loaded----\nHello Python\n--------------------------\n"
        }
      ],
      "execution_count": 4
    },
    {
      "id": "34b0ccf9-f774-4242-947e-0ff00b945340",
      "cell_type": "code",
      "source": "",
      "metadata": {
        "trusted": true
      },
      "outputs": [],
      "execution_count": null
    },
    {
      "id": "b9b520a7-2773-4967-9450-4ea17c3acd8e",
      "cell_type": "code",
      "source": "",
      "metadata": {
        "trusted": true
      },
      "outputs": [],
      "execution_count": null
    }
  ]
}